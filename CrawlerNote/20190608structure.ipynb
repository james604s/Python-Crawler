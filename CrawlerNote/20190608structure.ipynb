{
 "cells": [
  {
   "cell_type": "markdown",
   "metadata": {},
   "source": [
    "# 網頁結構巡覽\n",
    "* 父節點(parent)\n",
    "* 子節點(children)\n",
    "* 兄弟節點(siblings)"
   ]
  },
  {
   "cell_type": "code",
   "execution_count": 1,
   "metadata": {},
   "outputs": [],
   "source": [
    "# 範例網頁表格中，有六堂課程，我們要先取得所有課程的售價，再除以課程數以計算均價。\n",
    "# 其售價欄位在<td>內，且沒有特定的屬性，取得<table>區塊，接著依序往下<tbody>、<tr>等。"
   ]
  },
  {
   "cell_type": "code",
   "execution_count": 8,
   "metadata": {},
   "outputs": [],
   "source": [
    "import requests\n",
    "from bs4 import BeautifulSoup\n"
   ]
  },
  {
   "cell_type": "code",
   "execution_count": 12,
   "metadata": {},
   "outputs": [
    {
     "name": "stdout",
     "output_type": "stream",
     "text": [
      "2735.0\n"
     ]
    }
   ],
   "source": [
    "resp = requests.get('http://jwlin.github.io/py-scraping-analysis-book/ch2/table/table.html')\n",
    "soup = BeautifulSoup(resp.text, 'html.parser')\n",
    "\n",
    "prices = [] #儲存上課價格的list \n",
    "\n",
    "#取得課程價格方法一, 使用index\n",
    "rows = soup.find('table', 'table').tbody.find_all('tr')\n",
    "for row in rows:\n",
    "    price = row.find_all('td')[2].text #第3個<td> (index = 2)\n",
    "    prices.append(int(price))\n",
    "\n",
    "print(sum(prices)/len(price)) #課程均價"
   ]
  },
  {
   "cell_type": "code",
   "execution_count": 17,
   "metadata": {},
   "outputs": [
    {
     "name": "stdout",
     "output_type": "stream",
     "text": [
      "2735.0\n"
     ]
    }
   ],
   "source": [
    "#方法二 <a>的parent(<td>)的previous_sibling\n",
    "\n",
    "prices = []\n",
    "\n",
    "links = soup.find_all('a')\n",
    "for link in links:\n",
    "    price = link.parent.previous_sibling.text\n",
    "    prices.append(int(price))\n",
    "\n",
    "\n",
    "print(sum(prices)/len(price))\n",
    "\n",
    "#next_sibling 下一個兄弟節點，這個屬性也會回傳最近的節點。"
   ]
  },
  {
   "cell_type": "markdown",
   "metadata": {},
   "source": [
    "### 取得每個課程的欄位資訊\n",
    "* table 4欄6列，其中第四列有一個超連結及一張圖片。\n",
    "* 希望把每一列資訊(課程名、對象、售價等)都印出來。"
   ]
  },
  {
   "cell_type": "code",
   "execution_count": 21,
   "metadata": {},
   "outputs": [
    {
     "name": "stdout",
     "output_type": "stream",
     "text": [
      "初心者 - Python入門 初學者 1490 http://www.pycone.com img/python-logo.png\n",
      "Python 網頁爬蟲入門實戰 有程式基礎的初學者 1890 http://www.pycone.com img/python-logo.png\n",
      "Python 機器學習入門實戰 (預計) 有程式基礎的初學者 1890 http://www.pycone.com img/python-logo.png\n",
      "Python 資料科學入門實戰 (預計) 有程式基礎的初學者 1890 http://www.pycone.com img/python-logo.png\n",
      "Python 資料視覺化入門實戰 (預計) 有程式基礎的初學者 1890 http://www.pycone.com img/python-logo.png\n",
      "Python 網站架設入門實戰 (預計) 有程式基礎的初學者 1890 None img/python-logo.png\n"
     ]
    }
   ],
   "source": [
    "#定義每一列<tr>\n",
    "#再取每一欄<td>\n",
    "#find_all() \n",
    "row = soup.find('table', 'table').tbody.find_all('tr')\n",
    "for row in rows:\n",
    "    #方法一：find_all()\n",
    "    tds = row.find_all('td')\n",
    "    #方法二：找出row(<tr>)所有的直接下一層children\n",
    "    tds = [td for td in row.children]\n",
    "    \n",
    "    #取得href屬性前先檢查其是否存在\n",
    "    if 'href' in tds[3].a.attrs:\n",
    "        href = tds[3].a['href']\n",
    "    else:\n",
    "        href = None\n",
    "    print(tds[0].text, tds[1].text,\n",
    "          tds[2].text, href, tds[3].a.img['src'])\n"
   ]
  },
  {
   "cell_type": "code",
   "execution_count": 22,
   "metadata": {},
   "outputs": [
    {
     "name": "stdout",
     "output_type": "stream",
     "text": [
      "['初心者 - Python入門', '初學者', '1490']\n",
      "['Python 網頁爬蟲入門實戰', '有程式基礎的初學者', '1890']\n",
      "['Python 機器學習入門實戰 (預計)', '有程式基礎的初學者', '1890']\n",
      "['Python 資料科學入門實戰 (預計)', '有程式基礎的初學者', '1890']\n",
      "['Python 資料視覺化入門實戰 (預計)', '有程式基礎的初學者', '1890']\n",
      "['Python 網站架設入門實戰 (預計)', '有程式基礎的初學者', '1890']\n"
     ]
    }
   ],
   "source": [
    "    # 取得每一列所有欄位文字資訊: stripped_strings\n",
    "    rows = soup.find('table', 'table').tbody.find_all('tr')\n",
    "    for row in rows:\n",
    "        print([s for s in row.stripped_strings])\n"
   ]
  },
  {
   "cell_type": "code",
   "execution_count": null,
   "metadata": {},
   "outputs": [],
   "source": []
  }
 ],
 "metadata": {
  "kernelspec": {
   "display_name": "Python 3",
   "language": "python",
   "name": "python3"
  },
  "language_info": {
   "codemirror_mode": {
    "name": "ipython",
    "version": 3
   },
   "file_extension": ".py",
   "mimetype": "text/x-python",
   "name": "python",
   "nbconvert_exporter": "python",
   "pygments_lexer": "ipython3",
   "version": "3.6.8"
  }
 },
 "nbformat": 4,
 "nbformat_minor": 2
}
